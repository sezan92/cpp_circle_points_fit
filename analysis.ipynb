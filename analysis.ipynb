{
 "cells": [
  {
   "cell_type": "code",
   "execution_count": 1,
   "metadata": {},
   "outputs": [],
   "source": [
    "import numpy as np"
   ]
  },
  {
   "cell_type": "code",
   "execution_count": 35,
   "metadata": {},
   "outputs": [],
   "source": [
    "from plot_3d import parse_text, plot_3d"
   ]
  },
  {
   "cell_type": "code",
   "execution_count": 4,
   "metadata": {},
   "outputs": [],
   "source": [
    "points = parse_text(\"matrix.txt\")"
   ]
  },
  {
   "cell_type": "code",
   "execution_count": 8,
   "metadata": {},
   "outputs": [],
   "source": [
    "centers = points.mean(axis=0)"
   ]
  },
  {
   "cell_type": "code",
   "execution_count": 10,
   "metadata": {},
   "outputs": [],
   "source": [
    "points_centered = points - centers"
   ]
  },
  {
   "cell_type": "code",
   "execution_count": 11,
   "metadata": {},
   "outputs": [
    {
     "name": "stdout",
     "output_type": "stream",
     "text": [
      "U [[-1.71695423e-01  4.00377733e-01  3.38663114e-01 -1.71625155e-01\n",
      "  -2.95693592e-01  1.20574870e-01  1.21587861e-01 -1.80011416e-01\n",
      "   2.66906379e-02  2.46988300e-01 -6.79514286e-02  5.94995197e-01\n",
      "   1.97473794e-01  2.39919874e-01]\n",
      " [ 1.65849655e-01  4.10917708e-01 -4.55758015e-01 -2.53006064e-01\n",
      "   8.46734488e-02 -2.84981477e-01 -1.18978710e-02  5.10010589e-02\n",
      "   1.99569719e-01 -4.96010015e-02  4.06371454e-01 -1.03300634e-01\n",
      "   3.89029190e-01  2.67105910e-01]\n",
      " [-2.49649720e-01  2.58599583e-01  6.56599841e-02  2.19908992e-01\n",
      "  -7.46899521e-02  3.90259625e-02 -4.80364275e-01  5.59881984e-01\n",
      "  -2.36739970e-01  1.59612062e-01  1.00866485e-03 -1.54899850e-01\n",
      "  -1.47019413e-01  3.73736906e-01]\n",
      " [ 2.32087283e-01  2.70682081e-01  1.33465220e-01  8.73986113e-01\n",
      "   3.81664723e-02 -8.28234588e-02  1.25684958e-01 -1.37320618e-01\n",
      "   1.14844697e-01 -5.21619476e-02  1.04353824e-01  2.14809775e-02\n",
      "   1.42309287e-01 -2.68083777e-02]\n",
      " [-2.86099824e-01  1.24044375e-01  1.10129997e-01 -2.16732759e-02\n",
      "   9.25506132e-01  4.81252061e-02  2.87014204e-02 -4.49485733e-02\n",
      "  -8.10203714e-03  6.07852044e-02 -4.45193922e-02  1.44961431e-01\n",
      "   1.80639648e-02  3.68398026e-02]\n",
      " [ 2.81470654e-01  1.40033611e-01 -1.27413157e-01 -3.33013328e-02\n",
      "   5.74696925e-02  9.24074410e-01 -1.21062336e-02  2.68983995e-02\n",
      "   4.13547119e-02 -4.48661470e-02  9.38838032e-02 -9.75921488e-02\n",
      "   5.73983653e-02  1.94743625e-02]\n",
      " [-2.99579627e-01 -5.34728881e-03 -3.78868836e-01  1.39063657e-01\n",
      "  -7.01408380e-02  7.17827533e-02  7.67284621e-01  2.62977743e-01\n",
      "  -1.48729955e-01  1.04391080e-01 -6.69701714e-02 -2.33355056e-02\n",
      "  -1.21683012e-01  1.62890367e-01]\n",
      " [ 3.03226859e-01  1.07562590e-03  4.71534092e-01 -1.63103782e-01\n",
      "   7.13087805e-02 -7.33400196e-02  2.79573637e-01  6.81693081e-01\n",
      "   1.71402539e-01 -1.14342817e-01  6.60006951e-02  4.93150604e-02\n",
      "   1.39642566e-01 -1.92440308e-01]\n",
      " [-2.96819524e-01 -1.39669630e-01 -9.97097052e-02  9.53260686e-02\n",
      "  -6.12254948e-02  8.22705761e-02 -1.04612322e-01  1.10592207e-01\n",
      "   9.00420900e-01  7.02126113e-02 -9.49303251e-02  3.39241175e-02\n",
      "  -1.05396071e-01  5.20724952e-02]\n",
      " [ 3.02261995e-01 -1.31802631e-01 -1.95520346e-02 -2.58394752e-03\n",
      "   7.88050538e-02 -5.20369711e-02  1.84702028e-02 -1.02578902e-02\n",
      "   3.20768886e-02  9.26438652e-01  4.58367167e-02 -1.24124474e-01\n",
      "   2.41687747e-04 -6.84608486e-02]\n",
      " [-2.95595335e-01 -2.69849552e-01  1.73765350e-01  5.23434957e-02\n",
      "  -5.29234991e-02  9.27170108e-02  2.08185400e-02 -3.86666517e-02\n",
      "  -5.14987943e-02  3.71374909e-02  8.77600539e-01  9.07443104e-02\n",
      "  -8.92314528e-02 -5.59795437e-02]\n",
      " [ 2.92849882e-01 -2.63198915e-01 -4.01994369e-01  1.29862798e-01\n",
      "   8.42961334e-02 -3.04620708e-02 -1.88795446e-01  2.33741643e-01\n",
      "  -8.20810573e-02 -4.12249234e-02  2.27949187e-02  7.38054643e-01\n",
      "  -1.17995160e-01  2.41845022e-02]\n",
      " [-2.45292726e-01 -3.99496248e-01 -4.82017653e-02  1.34401273e-01\n",
      "  -3.34420148e-02  9.87887348e-02 -9.71052187e-02  1.02086393e-01\n",
      "  -1.15175942e-01  4.05336728e-02 -1.32887772e-01 -1.66903579e-02\n",
      "   8.34152979e-01 -2.14727584e-02]\n",
      " [ 2.66985850e-01 -3.96366453e-01  2.38280124e-01 -6.25840484e-03\n",
      "   8.66457857e-02 -1.85349758e-02  1.17810883e-01 -1.31055670e-01\n",
      "   5.00748074e-02 -1.03537427e-01 -1.55762755e-02 -8.68576316e-02\n",
      "  -3.25787555e-02  8.08587562e-01]]\n",
      "V [[-0.2451229  -0.96938856  0.01416307]\n",
      " [ 0.29561215 -0.08864662 -0.95118623]\n",
      " [ 0.92332455 -0.22897075  0.30829235]]\n"
     ]
    }
   ],
   "source": [
    "U, s, V = np.linalg.svd(points_centered)\n",
    "print(f\"U {U}\")\n",
    "print(f\"V {V}\")"
   ]
  },
  {
   "cell_type": "code",
   "execution_count": 12,
   "metadata": {},
   "outputs": [
    {
     "data": {
      "text/plain": [
       "(14, 14)"
      ]
     },
     "execution_count": 12,
     "metadata": {},
     "output_type": "execute_result"
    }
   ],
   "source": [
    "U.shape"
   ]
  },
  {
   "cell_type": "code",
   "execution_count": 13,
   "metadata": {},
   "outputs": [
    {
     "data": {
      "text/plain": [
       "(3, 3)"
      ]
     },
     "execution_count": 13,
     "metadata": {},
     "output_type": "execute_result"
    }
   ],
   "source": [
    "V.shape"
   ]
  },
  {
   "cell_type": "code",
   "execution_count": 14,
   "metadata": {},
   "outputs": [
    {
     "data": {
      "text/plain": [
       "(3,)"
      ]
     },
     "execution_count": 14,
     "metadata": {},
     "output_type": "execute_result"
    }
   ],
   "source": [
    "s.shape"
   ]
  },
  {
   "cell_type": "code",
   "execution_count": 16,
   "metadata": {},
   "outputs": [],
   "source": [
    "normal = V[2, :]"
   ]
  },
  {
   "cell_type": "code",
   "execution_count": 17,
   "metadata": {},
   "outputs": [
    {
     "data": {
      "text/plain": [
       "array([ 0.92332455, -0.22897075,  0.30829235])"
      ]
     },
     "execution_count": 17,
     "metadata": {},
     "output_type": "execute_result"
    }
   ],
   "source": [
    "normal"
   ]
  },
  {
   "cell_type": "code",
   "execution_count": 18,
   "metadata": {},
   "outputs": [
    {
     "data": {
      "text/plain": [
       "array([[ 8.19000000e-02,  1.19075857e-01, -1.56839793e-01],\n",
       "       [ 1.67900000e-02, -1.43780143e-01, -1.57084493e-01],\n",
       "       [ 8.01800000e-02,  1.84805857e-01, -1.02877893e-01],\n",
       "       [-1.30900000e-02, -1.90232143e-01, -1.02078893e-01],\n",
       "       [ 7.11700000e-02,  2.18000857e-01, -5.12378929e-02],\n",
       "       [-3.85100000e-02, -2.23922143e-01, -5.09758929e-02],\n",
       "       [ 5.82600000e-02,  2.33148857e-01, -1.33589286e-03],\n",
       "       [-5.94900000e-02, -2.35831143e-01,  3.03010714e-03],\n",
       "       [ 4.15700000e-02,  2.35844857e-01,  5.06601071e-02],\n",
       "       [-7.52800000e-02, -2.30289143e-01,  5.44231071e-02],\n",
       "       [ 2.56800000e-02,  2.39585857e-01,  1.01036107e-01],\n",
       "       [-8.92300000e-02, -2.18232143e-01,  1.05147107e-01],\n",
       "       [ 2.00000000e-04,  2.05144857e-01,  1.51762107e-01],\n",
       "       [-1.00150000e-01, -1.93320143e-01,  1.56372107e-01]])"
      ]
     },
     "execution_count": 18,
     "metadata": {},
     "output_type": "execute_result"
    }
   ],
   "source": [
    "points_centered"
   ]
  },
  {
   "cell_type": "code",
   "execution_count": 19,
   "metadata": {},
   "outputs": [
    {
     "data": {
      "text/plain": [
       "array([ 1.45021   , -0.41697086,  0.23888489])"
      ]
     },
     "execution_count": 19,
     "metadata": {},
     "output_type": "execute_result"
    }
   ],
   "source": [
    "center"
   ]
  },
  {
   "cell_type": "code",
   "execution_count": 21,
   "metadata": {},
   "outputs": [
    {
     "data": {
      "text/plain": [
       "-1.508135009044949"
      ]
     },
     "execution_count": 21,
     "metadata": {},
     "output_type": "execute_result"
    }
   ],
   "source": [
    "-np.dot(center, normal)"
   ]
  },
  {
   "cell_type": "code",
   "execution_count": 22,
   "metadata": {},
   "outputs": [
    {
     "data": {
      "text/plain": [
       "1.0000000000000002"
      ]
     },
     "execution_count": 22,
     "metadata": {},
     "output_type": "execute_result"
    }
   ],
   "source": [
    "np.linalg.norm(normal)"
   ]
  },
  {
   "cell_type": "code",
   "execution_count": 23,
   "metadata": {},
   "outputs": [
    {
     "data": {
      "text/plain": [
       "array([ 0.92332455, -0.22897075,  0.30829235])"
      ]
     },
     "execution_count": 23,
     "metadata": {},
     "output_type": "execute_result"
    }
   ],
   "source": [
    "normal"
   ]
  },
  {
   "cell_type": "code",
   "execution_count": 24,
   "metadata": {},
   "outputs": [
    {
     "data": {
      "text/plain": [
       "array([ 0.92332455, -0.22897075,  0.30829235])"
      ]
     },
     "execution_count": 24,
     "metadata": {},
     "output_type": "execute_result"
    }
   ],
   "source": [
    "normal / (np.linalg.norm(normal))"
   ]
  },
  {
   "cell_type": "code",
   "execution_count": 26,
   "metadata": {},
   "outputs": [],
   "source": [
    "n1 = [0, 0, 1]"
   ]
  },
  {
   "cell_type": "code",
   "execution_count": 27,
   "metadata": {},
   "outputs": [],
   "source": [
    "n0 = normal / np.linalg.norm(normal)\n",
    "n1 = n1 / np.linalg.norm(n1)"
   ]
  },
  {
   "cell_type": "code",
   "execution_count": 28,
   "metadata": {},
   "outputs": [],
   "source": [
    "k = np.cross(n0, n1)"
   ]
  },
  {
   "cell_type": "code",
   "execution_count": 29,
   "metadata": {},
   "outputs": [
    {
     "data": {
      "text/plain": [
       "array([-0.22897075, -0.92332455,  0.        ])"
      ]
     },
     "execution_count": 29,
     "metadata": {},
     "output_type": "execute_result"
    }
   ],
   "source": [
    "k"
   ]
  },
  {
   "cell_type": "code",
   "execution_count": 30,
   "metadata": {},
   "outputs": [],
   "source": [
    "theta = np.arccos(np.dot(n0, n1))"
   ]
  },
  {
   "cell_type": "code",
   "execution_count": 31,
   "metadata": {},
   "outputs": [
    {
     "data": {
      "text/plain": [
       "1.2573989036960442"
      ]
     },
     "execution_count": 31,
     "metadata": {},
     "output_type": "execute_result"
    }
   ],
   "source": [
    "theta"
   ]
  },
  {
   "cell_type": "code",
   "execution_count": 32,
   "metadata": {},
   "outputs": [],
   "source": [
    "points_centered_rot = np.zeros((len(points_centered), 3))"
   ]
  },
  {
   "cell_type": "code",
   "execution_count": 39,
   "metadata": {},
   "outputs": [
    {
     "data": {
      "text/plain": [
       "array([[ 8.19000000e-02,  1.19075857e-01, -1.56839793e-01],\n",
       "       [ 1.67900000e-02, -1.43780143e-01, -1.57084493e-01],\n",
       "       [ 8.01800000e-02,  1.84805857e-01, -1.02877893e-01],\n",
       "       [-1.30900000e-02, -1.90232143e-01, -1.02078893e-01],\n",
       "       [ 7.11700000e-02,  2.18000857e-01, -5.12378929e-02],\n",
       "       [-3.85100000e-02, -2.23922143e-01, -5.09758929e-02],\n",
       "       [ 5.82600000e-02,  2.33148857e-01, -1.33589286e-03],\n",
       "       [-5.94900000e-02, -2.35831143e-01,  3.03010714e-03],\n",
       "       [ 4.15700000e-02,  2.35844857e-01,  5.06601071e-02],\n",
       "       [-7.52800000e-02, -2.30289143e-01,  5.44231071e-02],\n",
       "       [ 2.56800000e-02,  2.39585857e-01,  1.01036107e-01],\n",
       "       [-8.92300000e-02, -2.18232143e-01,  1.05147107e-01],\n",
       "       [ 2.00000000e-04,  2.05144857e-01,  1.51762107e-01],\n",
       "       [-1.00150000e-01, -1.93320143e-01,  1.56372107e-01]])"
      ]
     },
     "execution_count": 39,
     "metadata": {},
     "output_type": "execute_result"
    }
   ],
   "source": [
    "points_centered"
   ]
  },
  {
   "cell_type": "code",
   "execution_count": 33,
   "metadata": {},
   "outputs": [],
   "source": [
    "for i in range(len(points_centered)):\n",
    "    points_centered_rot[i] = (\n",
    "        points_centered[i] * np.cos(theta)\n",
    "        + np.cross(k, points_centered[i]) * np.sin(theta)\n",
    "        + k * np.dot(k, points_centered[i]) * (1 - np.cos(theta))\n",
    "    )"
   ]
  },
  {
   "cell_type": "code",
   "execution_count": 38,
   "metadata": {},
   "outputs": [
    {
     "data": {
      "text/plain": [
       "array([[ 1.83392877e-01,  8.47435210e-02, -2.35242691e-03],\n",
       "       [ 1.22734461e-01, -1.60874018e-01, -2.36253674e-03],\n",
       "       [ 1.45014904e-01,  1.55270921e-01, -1.54432451e-03],\n",
       "       [ 5.73318832e-02, -1.94975923e-01, -1.53177713e-03],\n",
       "       [ 1.01406737e-01,  1.95010312e-01, -7.68516973e-04],\n",
       "       [-1.23984336e-03, -2.17815485e-01, -7.66506924e-04],\n",
       "       [ 5.53422351e-02,  2.17594739e-01, -2.31293895e-05],\n",
       "       [-5.76464040e-02, -2.19814253e-01,  4.93210494e-05],\n",
       "       [ 4.31509900e-03,  2.28900696e-01,  7.59925118e-04],\n",
       "       [-1.07417603e-01, -2.05952339e-01,  8.17081188e-04],\n",
       "       [-4.48606455e-02,  2.40909180e-01,  1.51860700e-03],\n",
       "       [-1.55014467e-01, -1.86116648e-01,  1.57567543e-03],\n",
       "       [-1.03231731e-01,  2.17304333e-01,  2.27853123e-03],\n",
       "       [-2.00127502e-01, -1.54185037e-01,  2.35007755e-03]])"
      ]
     },
     "execution_count": 38,
     "metadata": {},
     "output_type": "execute_result"
    }
   ],
   "source": [
    "points_centered_rot"
   ]
  },
  {
   "cell_type": "code",
   "execution_count": 36,
   "metadata": {},
   "outputs": [
    {
     "data": {
      "image/png": "[encoded data removed]",
      "text/plain": [
       "<Figure size 432x288 with 1 Axes>"
      ]
     },
     "metadata": {
      "needs_background": "light"
     },
     "output_type": "display_data"
    }
   ],
   "source": [
    "plot_3d(points_centered_rot)"
   ]
  },
  {
   "cell_type": "code",
   "execution_count": 37,
   "metadata": {},
   "outputs": [
    {
     "data": {
      "image/png": "[encoded data removed]",
      "text/plain": [
       "<Figure size 432x288 with 1 Axes>"
      ]
     },
     "metadata": {
      "needs_background": "light"
     },
     "output_type": "display_data"
    }
   ],
   "source": [
    "plot_3d(points)"
   ]
  },
  {
   "cell_type": "code",
   "execution_count": 41,
   "metadata": {},
   "outputs": [],
   "source": [
    "x = points_centered_rot[:, 0]"
   ]
  },
  {
   "cell_type": "code",
   "execution_count": 45,
   "metadata": {},
   "outputs": [
    {
     "data": {
      "text/plain": [
       "array([ 0.18339288,  0.12273446,  0.1450149 ,  0.05733188,  0.10140674,\n",
       "       -0.00123984,  0.05534224, -0.0576464 ,  0.0043151 , -0.1074176 ,\n",
       "       -0.04486065, -0.15501447, -0.10323173, -0.2001275 ])"
      ]
     },
     "execution_count": 45,
     "metadata": {},
     "output_type": "execute_result"
    }
   ],
   "source": [
    "x"
   ]
  },
  {
   "cell_type": "code",
   "execution_count": 42,
   "metadata": {},
   "outputs": [],
   "source": [
    "y = points_centered_rot[:, 1]"
   ]
  },
  {
   "cell_type": "code",
   "execution_count": 48,
   "metadata": {},
   "outputs": [],
   "source": [
    "b = x ** 2 + y ** 2"
   ]
  },
  {
   "cell_type": "code",
   "execution_count": 49,
   "metadata": {},
   "outputs": [
    {
     "data": {
      "text/plain": [
       "array([0.04081441, 0.0409442 , 0.04513838, 0.04130256, 0.04831235,\n",
       "       0.04744512, 0.05041023, 0.05164141, 0.05241415, 0.05395491,\n",
       "       0.06004971, 0.05866889, 0.05787796, 0.06382404])"
      ]
     },
     "execution_count": 49,
     "metadata": {},
     "output_type": "execute_result"
    }
   ],
   "source": [
    "b"
   ]
  },
  {
   "cell_type": "code",
   "execution_count": 51,
   "metadata": {},
   "outputs": [],
   "source": [
    "A = np.array([x, y, np.ones(len(x))]).T"
   ]
  },
  {
   "cell_type": "code",
   "execution_count": 54,
   "metadata": {},
   "outputs": [],
   "source": [
    "c = np.linalg.lstsq(A, b, rcond=None)[0]"
   ]
  },
  {
   "cell_type": "code",
   "execution_count": 56,
   "metadata": {},
   "outputs": [],
   "source": [
    "xc, yc, = (\n",
    "    c[0] / 2,\n",
    "    c[1] / 2,\n",
    ")"
   ]
  },
  {
   "cell_type": "code",
   "execution_count": 57,
   "metadata": {},
   "outputs": [],
   "source": [
    "r = np.sqrt(c[2] + x ** 2 + y ** 2)"
   ]
  },
  {
   "cell_type": "code",
   "execution_count": null,
   "metadata": {},
   "outputs": [],
   "source": []
  }
 ],
 "metadata": {
  "kernelspec": {
   "display_name": "base",
   "language": "python",
   "name": "base"
  },
  "language_info": {
   "codemirror_mode": {
    "name": "ipython",
    "version": 3
   },
   "file_extension": ".py",
   "mimetype": "text/x-python",
   "name": "python",
   "nbconvert_exporter": "python",
   "pygments_lexer": "ipython3",
   "version": "3.8.5"
  }
 },
 "nbformat": 4,
 "nbformat_minor": 4
}
